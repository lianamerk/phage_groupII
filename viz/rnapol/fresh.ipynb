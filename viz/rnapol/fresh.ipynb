{
 "cells": [
  {
   "cell_type": "code",
   "execution_count": 18,
   "id": "3f1e2c6f-6eec-4068-9861-b9bc38a7a020",
   "metadata": {},
   "outputs": [
    {
     "name": "stdout",
     "output_type": "stream",
     "text": [
      "Conversion complete: /n/eddy_lab/users/lmerk/phage_groupII/data/script_output/updated_genomes/NC_031039_double_annotated.gbff -> ./actual_genbanks/NC_031039.faa\n",
      "Conversion complete: /n/eddy_lab/users/lmerk/phage_groupII/data/script_output/updated_genomes/NC_043027_double_annotated.gbff -> ./actual_genbanks/NC_043027.faa\n",
      "Conversion complete: /n/eddy_lab/users/lmerk/phage_groupII/data/script_output/updated_genomes/MW749003_double_annotated.gbff -> ./actual_genbanks/MW749003.faa\n",
      "Conversion complete: /n/eddy_lab/users/lmerk/phage_groupII/data/script_output/updated_genomes/MZ422438_double_annotated.gbff -> ./actual_genbanks/MZ422438.faa\n",
      "Conversion complete: /n/eddy_lab/users/lmerk/phage_groupII/data/script_output/updated_genomes/MW248466_double_annotated.gbff -> ./actual_genbanks/MW248466.faa\n",
      "Conversion complete: /n/eddy_lab/users/lmerk/phage_groupII/data/script_output/updated_genomes/LC680885_double_annotated.gbff -> ./actual_genbanks/LC680885.faa\n",
      "Conversion complete: /n/eddy_lab/users/lmerk/phage_groupII/data/script_output/updated_genomes/MN091626_double_annotated.gbff -> ./actual_genbanks/MN091626.faa\n"
     ]
    }
   ],
   "source": [
    "def convert_genbank_to_faa(genbank_file, output_directory):\n",
    "    with open(genbank_file, \"r\") as gb_fh:\n",
    "        for record in SeqIO.parse(gb_fh, \"genbank\"):\n",
    "            genome_name = os.path.basename(genbank_file).split('.')[0].split('_double')[0]  # Get the genome name from the file name\n",
    "            output_file = os.path.join(output_directory, f\"{genome_name}.faa\")\n",
    "            with open(output_file, \"w\") as out_fh:\n",
    "                for feature in record.features:\n",
    "                    if feature.type == \"CDS\" and \"translation\" in feature.qualifiers:\n",
    "                        protein_seq = feature.qualifiers[\"translation\"][0]\n",
    "                        protein_id = feature.qualifiers.get(\"ID\", [feature.qualifiers[\"locus_tag\"][0]])[0]\n",
    "                        product = feature.qualifiers.get(\"product\", [\"Unknown\"])[0]\n",
    "                        header = f\">{genome_name}_{protein_id} {product}\"  # Modify the header to include the genome name\n",
    "                        out_fh.write(f\"{header}\\n\")\n",
    "                        out_fh.write(f\"{protein_seq}\\n\")\n",
    "    print(f\"Conversion complete: {genbank_file} -> {output_file}\")\n",
    "\n",
    "# List of GenBank files to process\n",
    "genbank_files = [\n",
    "    \"/n/eddy_lab/users/lmerk/phage_groupII/data/script_output/updated_genomes/NC_031039_double_annotated.gbff\",\n",
    "    \"/n/eddy_lab/users/lmerk/phage_groupII/data/script_output/updated_genomes/NC_043027_double_annotated.gbff\",\n",
    "    \"/n/eddy_lab/users/lmerk/phage_groupII/data/script_output/updated_genomes/MW749003_double_annotated.gbff\",\n",
    "    \"/n/eddy_lab/users/lmerk/phage_groupII/data/script_output/updated_genomes/MZ422438_double_annotated.gbff\",\n",
    "    \"/n/eddy_lab/users/lmerk/phage_groupII/data/script_output/updated_genomes/MW248466_double_annotated.gbff\",\n",
    "    \"/n/eddy_lab/users/lmerk/phage_groupII/data/script_output/updated_genomes/LC680885_double_annotated.gbff\",\n",
    "    \"/n/eddy_lab/users/lmerk/phage_groupII/data/script_output/updated_genomes/MN091626_double_annotated.gbff\"\n",
    "]\n",
    "\n",
    "# Output directory for the converted files\n",
    "output_directory = \"./actual_genbanks/\"\n",
    "\n",
    "# Ensure the output directory exists, if not create it\n",
    "os.makedirs(output_directory, exist_ok=True)\n",
    "\n",
    "# Process each GenBank file\n",
    "for genbank_file in genbank_files:\n",
    "    convert_genbank_to_faa(genbank_file, output_directory)\n"
   ]
  },
  {
   "cell_type": "code",
   "execution_count": 15,
   "id": "a355c8b6-565c-4c2d-af05-c5f48f737c53",
   "metadata": {},
   "outputs": [
    {
     "name": "stdout",
     "output_type": "stream",
     "text": [
      "NC_031039_double_and_intron_and_defense.gbff\n"
     ]
    }
   ],
   "source": [
    "import os\n",
    "import subprocess\n",
    "\n",
    "def crop_genbank_file(target_name, start, end, output_path):\n",
    "    # Find the GenBank file that matches the target name\n",
    "    genbank_file = None\n",
    "    for filename in os.listdir(\".\"):\n",
    "        if filename.startswith(target_name):\n",
    "            genbank_file = filename\n",
    "            break\n",
    "    print(genbank_file)\n",
    "    if genbank_file is None:\n",
    "        print(f\"No GenBank file found matching the target name '{target_name}'.\")\n",
    "        return\n",
    "    \n",
    "    # Construct the paths for the input GenBank file and the output cropped file\n",
    "    genbank_file_path = os.path.join(\".\", genbank_file)\n",
    "    output_file_path = os.path.join(output_path, f\"{target_name}.gb\")\n",
    "    \n",
    "    # Construct the command\n",
    "    cmd = f\"python Genbank_slicer.py -g {genbank_file_path} -s {start-1} -e {end+1} -o {output_file_path}\"\n",
    "    \n",
    "    # Run the command\n",
    "    subprocess.run(cmd, shell=True)\n",
    "\n",
    "# Example usage:\n",
    "crop_genbank_file(\"NC_031039\", 118211, 123199, \"./cropped_new/\")\n"
   ]
  },
  {
   "cell_type": "code",
   "execution_count": 16,
   "id": "f3123156-ef5c-4b56-811d-e9d03cfde1a4",
   "metadata": {},
   "outputs": [
    {
     "name": "stdout",
     "output_type": "stream",
     "text": [
      "MW749003_double_and_intron_and_defense.gbff\n"
     ]
    }
   ],
   "source": [
    "# Example usage:\n",
    "crop_genbank_file(\"MW749003\", 22783, 26778, \"./cropped_new/\")\n"
   ]
  },
  {
   "cell_type": "code",
   "execution_count": 19,
   "id": "a895a328-37e7-4878-b43b-316103111a05",
   "metadata": {},
   "outputs": [
    {
     "name": "stdout",
     "output_type": "stream",
     "text": [
      "MZ422438_double_and_intron_and_defense.gbff\n"
     ]
    }
   ],
   "source": [
    "crop_genbank_file(\"MZ422438\", 149389, 150900, \"./cropped_new/\")"
   ]
  },
  {
   "cell_type": "code",
   "execution_count": 23,
   "id": "d209065f-9073-4a8d-a099-46f0a05389e6",
   "metadata": {},
   "outputs": [
    {
     "data": {
      "text/plain": [
       "CompletedProcess(args='python Genbank_slicer.py -g ./MW248466.gb -s 110054 -e 113192 -o ./cropped_new/MW248466.gb', returncode=0)"
      ]
     },
     "execution_count": 23,
     "metadata": {},
     "output_type": "execute_result"
    }
   ],
   "source": [
    "cmd = f\"python Genbank_slicer.py -g ./MW248466.gb -s {110055-1} -e {113191+1} -o ./cropped_new/MW248466.gb\"\n",
    "    \n",
    "# Run the command\n",
    "subprocess.run(cmd, shell=True)\n"
   ]
  },
  {
   "cell_type": "code",
   "execution_count": 24,
   "id": "3a8b31d4-c9cf-45a0-bc0e-c66ecb4d3cb2",
   "metadata": {},
   "outputs": [
    {
     "data": {
      "text/plain": [
       "CompletedProcess(args='python Genbank_slicer.py -g ./MW248466.gb -s 236745 -e 240126 -o ./cropped_rnapol/MW248466.gb', returncode=0)"
      ]
     },
     "execution_count": 24,
     "metadata": {},
     "output_type": "execute_result"
    }
   ],
   "source": [
    "cmd = f\"python Genbank_slicer.py -g ./MW248466.gb -s {236746-1} -e {240125+1} -o ./cropped_rnapol/MW248466.gb\"\n",
    "    \n",
    "# Run the command\n",
    "subprocess.run(cmd, shell=True)"
   ]
  },
  {
   "cell_type": "code",
   "execution_count": 29,
   "id": "d11ab8e1-cbf1-4c59-80bc-196e26e1e09d",
   "metadata": {},
   "outputs": [
    {
     "data": {
      "text/plain": [
       "CompletedProcess(args='python Genbank_slicer.py -g ./ar9_with_intron.gb -s 62475 -e 65572 -o ./cropped_rnapol/NC_031039.gb', returncode=0)"
      ]
     },
     "execution_count": 29,
     "metadata": {},
     "output_type": "execute_result"
    }
   ],
   "source": [
    "cmd = f\"python Genbank_slicer.py -g ./ar9_with_intron.gb -s {62476-1} -e {65571+1} -o ./cropped_rnapol/NC_031039.gb\"\n",
    "    \n",
    "# Run the command\n",
    "subprocess.run(cmd, shell=True)"
   ]
  },
  {
   "cell_type": "code",
   "execution_count": 27,
   "id": "ea4d84aa-3e01-435e-8398-0ab2c301e844",
   "metadata": {},
   "outputs": [
    {
     "name": "stdout",
     "output_type": "stream",
     "text": [
      "MW749003_double_and_intron_and_defense.gbff\n"
     ]
    }
   ],
   "source": [
    "crop_genbank_file(\"MW749003\", 218305, 221221, \"./cropped_rnapol/\")"
   ]
  },
  {
   "cell_type": "code",
   "execution_count": 28,
   "id": "83d1096e-25d3-4837-b71b-9f9e947eedee",
   "metadata": {},
   "outputs": [
    {
     "name": "stdout",
     "output_type": "stream",
     "text": [
      "MN091626_double_and_intron_and_defense.gbff\n"
     ]
    }
   ],
   "source": [
    "crop_genbank_file(\"MN091626\", 48427, 51053, \"./cropped_rnapol/\")"
   ]
  },
  {
   "cell_type": "code",
   "execution_count": 30,
   "id": "3edd641d-0774-4cf5-87de-ee94e96f60c4",
   "metadata": {},
   "outputs": [
    {
     "name": "stdout",
     "output_type": "stream",
     "text": [
      "LC680885_double_and_intron_and_defense.gbff\n"
     ]
    }
   ],
   "source": [
    "crop_genbank_file(\"LC680885\", 189934, 193894, \"./cropped_rnapol/\")"
   ]
  },
  {
   "cell_type": "code",
   "execution_count": 31,
   "id": "45cda255-ffbc-430a-a6ba-04284e2d65e2",
   "metadata": {},
   "outputs": [
    {
     "name": "stdout",
     "output_type": "stream",
     "text": [
      "MZ422438_double_and_intron_and_defense.gbff\n"
     ]
    }
   ],
   "source": [
    "crop_genbank_file(\"MZ422438\", 162807, 166178, \"./cropped_rnapol/\")"
   ]
  },
  {
   "cell_type": "code",
   "execution_count": null,
   "id": "bd9e2a8d-ad0a-4f0a-b8e2-0c3674c26368",
   "metadata": {},
   "outputs": [],
   "source": []
  }
 ],
 "metadata": {
  "kernelspec": {
   "display_name": "Python 3",
   "language": "python",
   "name": "python3"
  },
  "language_info": {
   "codemirror_mode": {
    "name": "ipython",
    "version": 3
   },
   "file_extension": ".py",
   "mimetype": "text/x-python",
   "name": "python",
   "nbconvert_exporter": "python",
   "pygments_lexer": "ipython3",
   "version": "3.8.8"
  }
 },
 "nbformat": 4,
 "nbformat_minor": 5
}
