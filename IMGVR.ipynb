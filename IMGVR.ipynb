{
 "cells": [
  {
   "cell_type": "code",
   "execution_count": 2,
   "id": "c212a6a4-55d5-4c1d-aa3c-8b7105b3d153",
   "metadata": {},
   "outputs": [],
   "source": [
    "import numpy as np\n",
    "import pandas as pd\n",
    "\n",
    "import scripts\n",
    "import os\n",
    "import subprocess\n",
    "import importlib"
   ]
  },
  {
   "cell_type": "code",
   "execution_count": 3,
   "id": "d32c8fbd-d31a-4f76-8384-00bf9e3de658",
   "metadata": {},
   "outputs": [
    {
     "data": {
      "text/plain": [
       "<module 'scripts' from '/net/holy-nfsisilon/ifs/rc_labs/eddy_lab/users/lmerk/phage_groupII/scripts.py'>"
      ]
     },
     "execution_count": 3,
     "metadata": {},
     "output_type": "execute_result"
    }
   ],
   "source": [
    "importlib.reload(scripts)"
   ]
  },
  {
   "cell_type": "code",
   "execution_count": 11,
   "id": "d629c7f1-5487-4edf-85f3-7a0cfbb1341c",
   "metadata": {},
   "outputs": [],
   "source": [
    "data_dir = 'data/'\n",
    "\n",
    "# Infernal subdir\n",
    "infernal_dir = os.path.join(data_dir, 'infernal/')\n",
    "g1_intron_hits = os.path.join(infernal_dir, 'g1_intron_IMGVR.tblout')\n",
    "g2_intron_hits = os.path.join(infernal_dir, 'g2_intron_IMGVR.tblout')\n",
    "\n",
    "# Genomes subdir\n",
    "genomes_dir = os.path.join(data_dir, 'genomes/')\n",
    "genbank_dir = os.path.join(genomes_dir, 'IMGVR/')\n",
    "# actual_genomes = pd.read_csv(f'{genomes_dir}actual_IMGVR_genomes.txt', header=None)[0].unique()\n",
    "\n",
    "# Window and defense\n",
    "window_dir = os.path.join(genomes_dir, 'gII_intron_IMGVR_5kb_windows/')\n",
    "bakta_dir = os.path.join(data_dir, 'IMGVR_bakta_output')\n",
    "pharokka_dir = os.path.join(data_dir, \"IMGVR_pharokka_output\")\n",
    "defense_dir = os.path.join(data_dir, 'IMGVR_defensefinder/IMGVR_bakta_defense')\n",
    "\n",
    "# Script output subdir\n",
    "script_output = os.path.join(data_dir, 'IMGVR_script_output/')\n",
    "genbank_out_directory = os.path.join(script_output, \"IMGVR_updated_genomes\")"
   ]
  },
  {
   "cell_type": "code",
   "execution_count": 9,
   "id": "b8417a82-2be7-46a7-baad-da967a538dbf",
   "metadata": {},
   "outputs": [
    {
     "ename": "SyntaxError",
     "evalue": "invalid syntax (<ipython-input-9-fac716c94d82>, line 1)",
     "output_type": "error",
     "traceback": [
      "\u001b[0;36m  File \u001b[0;32m\"<ipython-input-9-fac716c94d82>\"\u001b[0;36m, line \u001b[0;32m1\u001b[0m\n\u001b[0;31m    esl-sfetch -f 'IMGVR_UViG_2504643025_000001|2504643025|2504645545|381-5974' -C\u001b[0m\n\u001b[0m                                                                              ^\u001b[0m\n\u001b[0;31mSyntaxError\u001b[0m\u001b[0;31m:\u001b[0m invalid syntax\n"
     ]
    }
   ],
   "source": [
    "esl-sfetch -f 'IMGVR_UViG_3300015373_000925' -C"
   ]
  },
  {
   "cell_type": "code",
   "execution_count": null,
   "id": "af255795-e93b-460e-afc2-71a84d9ca464",
   "metadata": {},
   "outputs": [],
   "source": [
    "esl-sfetch -f /n/eddy_lab/data/IMGVR-2022-12-19_7/IMGVR_all_nucleotides.fna all_imgvr_hits.txt"
   ]
  },
  {
   "cell_type": "code",
   "execution_count": null,
   "id": "fa64ccfe-d315-4dc3-8059-e966ddc1d54f",
   "metadata": {},
   "outputs": [],
   "source": []
  },
  {
   "cell_type": "code",
   "execution_count": null,
   "id": "14af236e-a168-484d-a1f9-0abfc8fa3153",
   "metadata": {},
   "outputs": [],
   "source": []
  },
  {
   "cell_type": "code",
   "execution_count": 6,
   "id": "0281d400-073f-4c48-8f6e-5c804c5f9f58",
   "metadata": {},
   "outputs": [],
   "source": [
    "preprocess = True"
   ]
  },
  {
   "cell_type": "markdown",
   "id": "de9308b0-91da-43c9-a125-8a15d4efd1d9",
   "metadata": {},
   "source": [
    "______"
   ]
  },
  {
   "cell_type": "code",
   "execution_count": 49,
   "id": "bca05545-1597-4091-86d8-4984ed3e5b9f",
   "metadata": {},
   "outputs": [],
   "source": [
    "def extract_hit_df(filename, filt = True):\n",
    "    initial = 0\n",
    "    colspecs = []\n",
    "\n",
    "    # Initialize an empty list to store the cleaned data\n",
    "    \n",
    "    cleaned_data = []\n",
    "\n",
    "    # Read the file line by line, clean each line, and append to cleaned_data\n",
    "    with open(filename, 'r') as infile:\n",
    "        for line in infile:\n",
    "            # Remove leading and trailing white spaces, split by any white space\n",
    "            cleaned_line = line.strip().split()\n",
    "            cleaned_data.append(cleaned_line)\n",
    "\n",
    "    # Convert the cleaned data list into a DataFrame\n",
    "    hit_df = pd.DataFrame(cleaned_data[2:-10])\n",
    "\n",
    "    # Naming columns as per your data\n",
    "    hit_df.columns = ['target_name', 'accession', 'query_name', 'accession_2', 'mdl',\n",
    "                      'mdl_from', 'mdl_to', 'seq_from', 'seq_to', 'strand', 'trunc',\n",
    "                      'pass', 'gc', 'bias', 'score', 'E-value', 'inc', 'description_of_target']\n",
    "\n",
    "    return hit_df"
   ]
  },
  {
   "cell_type": "code",
   "execution_count": 66,
   "id": "8ec80d22-9f77-4897-8675-c9fd3d00f41a",
   "metadata": {},
   "outputs": [],
   "source": [
    "all_genomes = [x.split('_')[2] for x in g2_df.target_name.unique()]\n",
    "all_genomes_df = pd.DataFrame({'genomes': all_genomes})\n",
    "all_genomes_df.to_csv('all_genomes_imgvr.csv', index = False)"
   ]
  },
  {
   "cell_type": "code",
   "execution_count": 72,
   "id": "2f4c751f-15b0-4b65-b762-7b73ddcb3fb9",
   "metadata": {},
   "outputs": [],
   "source": [
    "all_genomes = [x.split('|')[0] for x in g2_df.target_name.unique()]\n",
    "all_genomes_df = pd.DataFrame({'genomes': all_genomes})\n",
    "all_genomes_df.to_csv('all_uvig_imgvr.csv', index = False, sep= ',')"
   ]
  },
  {
   "cell_type": "code",
   "execution_count": 73,
   "id": "5ca92394-8ef5-4a20-81a9-01bcbeb9f058",
   "metadata": {},
   "outputs": [],
   "source": [
    "g2_df.to_csv('whole_imgvr_g2.csv', index = False, sep= ',')"
   ]
  },
  {
   "cell_type": "code",
   "execution_count": 51,
   "id": "c8e25fa5-58e0-4be3-8ae8-e274e3b82b9c",
   "metadata": {},
   "outputs": [
    {
     "name": "stdout",
     "output_type": "stream",
     "text": [
      "Dereplicating group I...\n"
     ]
    },
    {
     "ename": "KeyError",
     "evalue": "'start'",
     "output_type": "error",
     "traceback": [
      "\u001b[0;31m---------------------------------------------------------------------------\u001b[0m",
      "\u001b[0;31mKeyError\u001b[0m                                  Traceback (most recent call last)",
      "\u001b[0;32m~/.conda/envs/jupyter_3.6/lib/python3.6/site-packages/pandas/core/indexes/base.py\u001b[0m in \u001b[0;36mget_loc\u001b[0;34m(self, key, method, tolerance)\u001b[0m\n\u001b[1;32m   2897\u001b[0m             \u001b[0;32mtry\u001b[0m\u001b[0;34m:\u001b[0m\u001b[0;34m\u001b[0m\u001b[0;34m\u001b[0m\u001b[0m\n\u001b[0;32m-> 2898\u001b[0;31m                 \u001b[0;32mreturn\u001b[0m \u001b[0mself\u001b[0m\u001b[0;34m.\u001b[0m\u001b[0m_engine\u001b[0m\u001b[0;34m.\u001b[0m\u001b[0mget_loc\u001b[0m\u001b[0;34m(\u001b[0m\u001b[0mcasted_key\u001b[0m\u001b[0;34m)\u001b[0m\u001b[0;34m\u001b[0m\u001b[0;34m\u001b[0m\u001b[0m\n\u001b[0m\u001b[1;32m   2899\u001b[0m             \u001b[0;32mexcept\u001b[0m \u001b[0mKeyError\u001b[0m \u001b[0;32mas\u001b[0m \u001b[0merr\u001b[0m\u001b[0;34m:\u001b[0m\u001b[0;34m\u001b[0m\u001b[0;34m\u001b[0m\u001b[0m\n",
      "\u001b[0;32mpandas/_libs/index.pyx\u001b[0m in \u001b[0;36mpandas._libs.index.IndexEngine.get_loc\u001b[0;34m()\u001b[0m\n",
      "\u001b[0;32mpandas/_libs/index.pyx\u001b[0m in \u001b[0;36mpandas._libs.index.IndexEngine.get_loc\u001b[0;34m()\u001b[0m\n",
      "\u001b[0;32mpandas/_libs/hashtable_class_helper.pxi\u001b[0m in \u001b[0;36mpandas._libs.hashtable.PyObjectHashTable.get_item\u001b[0;34m()\u001b[0m\n",
      "\u001b[0;32mpandas/_libs/hashtable_class_helper.pxi\u001b[0m in \u001b[0;36mpandas._libs.hashtable.PyObjectHashTable.get_item\u001b[0;34m()\u001b[0m\n",
      "\u001b[0;31mKeyError\u001b[0m: 'start'",
      "\nThe above exception was the direct cause of the following exception:\n",
      "\u001b[0;31mKeyError\u001b[0m                                  Traceback (most recent call last)",
      "\u001b[0;32m<ipython-input-51-60ce412c5f5c>\u001b[0m in \u001b[0;36m<module>\u001b[0;34m\u001b[0m\n\u001b[1;32m      7\u001b[0m \u001b[0;34m\u001b[0m\u001b[0m\n\u001b[1;32m      8\u001b[0m     \u001b[0mprint\u001b[0m\u001b[0;34m(\u001b[0m\u001b[0;34m'Dereplicating group I...'\u001b[0m\u001b[0;34m)\u001b[0m\u001b[0;34m\u001b[0m\u001b[0;34m\u001b[0m\u001b[0m\n\u001b[0;32m----> 9\u001b[0;31m     \u001b[0mg1_hits_pass\u001b[0m\u001b[0;34m,\u001b[0m \u001b[0mg1_hits_fail\u001b[0m \u001b[0;34m=\u001b[0m \u001b[0mscripts\u001b[0m\u001b[0;34m.\u001b[0m\u001b[0mdereplicate_hits\u001b[0m\u001b[0;34m(\u001b[0m\u001b[0mg1_df\u001b[0m\u001b[0;34m)\u001b[0m\u001b[0;34m\u001b[0m\u001b[0;34m\u001b[0m\u001b[0m\n\u001b[0m\u001b[1;32m     10\u001b[0m \u001b[0;34m\u001b[0m\u001b[0m\n\u001b[1;32m     11\u001b[0m     \u001b[0mprint\u001b[0m\u001b[0;34m(\u001b[0m\u001b[0;34m'Saving group I...'\u001b[0m\u001b[0;34m)\u001b[0m\u001b[0;34m\u001b[0m\u001b[0;34m\u001b[0m\u001b[0m\n",
      "\u001b[0;32m/net/holy-nfsisilon/ifs/rc_labs/eddy_lab/users/lmerk/phage_groupII/scripts.py\u001b[0m in \u001b[0;36mdereplicate_hits\u001b[0;34m(df)\u001b[0m\n\u001b[1;32m    205\u001b[0m \u001b[0;34m\u001b[0m\u001b[0m\n\u001b[1;32m    206\u001b[0m                     \u001b[0;31m# if the one we are testing start is within the region of the hit we chose in the outer loop\u001b[0m\u001b[0;34m\u001b[0m\u001b[0;34m\u001b[0m\u001b[0;34m\u001b[0m\u001b[0m\n\u001b[0;32m--> 207\u001b[0;31m                     \u001b[0;32mif\u001b[0m \u001b[0;34m(\u001b[0m\u001b[0mrow\u001b[0m\u001b[0;34m[\u001b[0m\u001b[0;34m'start'\u001b[0m\u001b[0;34m]\u001b[0m\u001b[0;34m-\u001b[0m\u001b[0;36m200\u001b[0m \u001b[0;34m<\u001b[0m \u001b[0mtest_row\u001b[0m\u001b[0;34m[\u001b[0m\u001b[0;34m'start'\u001b[0m\u001b[0;34m]\u001b[0m \u001b[0;34m<\u001b[0m \u001b[0mrow\u001b[0m\u001b[0;34m[\u001b[0m\u001b[0;34m'end'\u001b[0m\u001b[0;34m]\u001b[0m\u001b[0;34m+\u001b[0m\u001b[0;36m200\u001b[0m\u001b[0;34m)\u001b[0m \u001b[0;32mor\u001b[0m \u001b[0;34m(\u001b[0m\u001b[0mrow\u001b[0m\u001b[0;34m[\u001b[0m\u001b[0;34m'start'\u001b[0m\u001b[0;34m]\u001b[0m \u001b[0;34m-\u001b[0m \u001b[0;36m200\u001b[0m \u001b[0;34m<\u001b[0m \u001b[0mtest_row\u001b[0m\u001b[0;34m[\u001b[0m\u001b[0;34m'end'\u001b[0m\u001b[0;34m]\u001b[0m \u001b[0;34m<\u001b[0m \u001b[0mrow\u001b[0m\u001b[0;34m[\u001b[0m\u001b[0;34m'end'\u001b[0m\u001b[0;34m]\u001b[0m\u001b[0;34m+\u001b[0m\u001b[0;36m200\u001b[0m\u001b[0;34m)\u001b[0m\u001b[0;34m:\u001b[0m\u001b[0;34m\u001b[0m\u001b[0;34m\u001b[0m\u001b[0m\n\u001b[0m\u001b[1;32m    208\u001b[0m \u001b[0;34m\u001b[0m\u001b[0m\n\u001b[1;32m    209\u001b[0m                         \u001b[0;31m# and if the test e value is worse (ie greater than the hit we chose in the outer loop)\u001b[0m\u001b[0;34m\u001b[0m\u001b[0;34m\u001b[0m\u001b[0;34m\u001b[0m\u001b[0m\n",
      "\u001b[0;32m~/.conda/envs/jupyter_3.6/lib/python3.6/site-packages/pandas/core/series.py\u001b[0m in \u001b[0;36m__getitem__\u001b[0;34m(self, key)\u001b[0m\n\u001b[1;32m    880\u001b[0m \u001b[0;34m\u001b[0m\u001b[0m\n\u001b[1;32m    881\u001b[0m         \u001b[0;32melif\u001b[0m \u001b[0mkey_is_scalar\u001b[0m\u001b[0;34m:\u001b[0m\u001b[0;34m\u001b[0m\u001b[0;34m\u001b[0m\u001b[0m\n\u001b[0;32m--> 882\u001b[0;31m             \u001b[0;32mreturn\u001b[0m \u001b[0mself\u001b[0m\u001b[0;34m.\u001b[0m\u001b[0m_get_value\u001b[0m\u001b[0;34m(\u001b[0m\u001b[0mkey\u001b[0m\u001b[0;34m)\u001b[0m\u001b[0;34m\u001b[0m\u001b[0;34m\u001b[0m\u001b[0m\n\u001b[0m\u001b[1;32m    883\u001b[0m \u001b[0;34m\u001b[0m\u001b[0m\n\u001b[1;32m    884\u001b[0m         \u001b[0;32mif\u001b[0m \u001b[0mis_hashable\u001b[0m\u001b[0;34m(\u001b[0m\u001b[0mkey\u001b[0m\u001b[0;34m)\u001b[0m\u001b[0;34m:\u001b[0m\u001b[0;34m\u001b[0m\u001b[0;34m\u001b[0m\u001b[0m\n",
      "\u001b[0;32m~/.conda/envs/jupyter_3.6/lib/python3.6/site-packages/pandas/core/series.py\u001b[0m in \u001b[0;36m_get_value\u001b[0;34m(self, label, takeable)\u001b[0m\n\u001b[1;32m    988\u001b[0m \u001b[0;34m\u001b[0m\u001b[0m\n\u001b[1;32m    989\u001b[0m         \u001b[0;31m# Similar to Index.get_value, but we do not fall back to positional\u001b[0m\u001b[0;34m\u001b[0m\u001b[0;34m\u001b[0m\u001b[0;34m\u001b[0m\u001b[0m\n\u001b[0;32m--> 990\u001b[0;31m         \u001b[0mloc\u001b[0m \u001b[0;34m=\u001b[0m \u001b[0mself\u001b[0m\u001b[0;34m.\u001b[0m\u001b[0mindex\u001b[0m\u001b[0;34m.\u001b[0m\u001b[0mget_loc\u001b[0m\u001b[0;34m(\u001b[0m\u001b[0mlabel\u001b[0m\u001b[0;34m)\u001b[0m\u001b[0;34m\u001b[0m\u001b[0;34m\u001b[0m\u001b[0m\n\u001b[0m\u001b[1;32m    991\u001b[0m         \u001b[0;32mreturn\u001b[0m \u001b[0mself\u001b[0m\u001b[0;34m.\u001b[0m\u001b[0mindex\u001b[0m\u001b[0;34m.\u001b[0m\u001b[0m_get_values_for_loc\u001b[0m\u001b[0;34m(\u001b[0m\u001b[0mself\u001b[0m\u001b[0;34m,\u001b[0m \u001b[0mloc\u001b[0m\u001b[0;34m,\u001b[0m \u001b[0mlabel\u001b[0m\u001b[0;34m)\u001b[0m\u001b[0;34m\u001b[0m\u001b[0;34m\u001b[0m\u001b[0m\n\u001b[1;32m    992\u001b[0m \u001b[0;34m\u001b[0m\u001b[0m\n",
      "\u001b[0;32m~/.conda/envs/jupyter_3.6/lib/python3.6/site-packages/pandas/core/indexes/base.py\u001b[0m in \u001b[0;36mget_loc\u001b[0;34m(self, key, method, tolerance)\u001b[0m\n\u001b[1;32m   2898\u001b[0m                 \u001b[0;32mreturn\u001b[0m \u001b[0mself\u001b[0m\u001b[0;34m.\u001b[0m\u001b[0m_engine\u001b[0m\u001b[0;34m.\u001b[0m\u001b[0mget_loc\u001b[0m\u001b[0;34m(\u001b[0m\u001b[0mcasted_key\u001b[0m\u001b[0;34m)\u001b[0m\u001b[0;34m\u001b[0m\u001b[0;34m\u001b[0m\u001b[0m\n\u001b[1;32m   2899\u001b[0m             \u001b[0;32mexcept\u001b[0m \u001b[0mKeyError\u001b[0m \u001b[0;32mas\u001b[0m \u001b[0merr\u001b[0m\u001b[0;34m:\u001b[0m\u001b[0;34m\u001b[0m\u001b[0;34m\u001b[0m\u001b[0m\n\u001b[0;32m-> 2900\u001b[0;31m                 \u001b[0;32mraise\u001b[0m \u001b[0mKeyError\u001b[0m\u001b[0;34m(\u001b[0m\u001b[0mkey\u001b[0m\u001b[0;34m)\u001b[0m \u001b[0;32mfrom\u001b[0m \u001b[0merr\u001b[0m\u001b[0;34m\u001b[0m\u001b[0;34m\u001b[0m\u001b[0m\n\u001b[0m\u001b[1;32m   2901\u001b[0m \u001b[0;34m\u001b[0m\u001b[0m\n\u001b[1;32m   2902\u001b[0m         \u001b[0;32mif\u001b[0m \u001b[0mtolerance\u001b[0m \u001b[0;32mis\u001b[0m \u001b[0;32mnot\u001b[0m \u001b[0;32mNone\u001b[0m\u001b[0;34m:\u001b[0m\u001b[0;34m\u001b[0m\u001b[0;34m\u001b[0m\u001b[0m\n",
      "\u001b[0;31mKeyError\u001b[0m: 'start'"
     ]
    }
   ],
   "source": [
    "if preprocess:\n",
    "    g1_df = extract_hit_df(g1_intron_hits)\n",
    "    g2_df = extract_hit_df(g2_intron_hits)\n",
    "\n",
    "#     g1_df = pd.merge(g1_hits, metadata, on='target_name', how='left')\n",
    "#     g2_df = pd.merge(g2_hits, metadata, on='target_name', how='left')\n",
    "    \n",
    "    print('Dereplicating group I...')\n",
    "    g1_hits_pass, g1_hits_fail = scripts.dereplicate_hits(g1_df)\n",
    "\n",
    "    print('Saving group I...')\n",
    "    # Save all the hits\n",
    "    g1_df.sort_values('target_name').to_csv(f'{script_output}g1_df.csv', index=False)\n",
    "    # Save the ones that didn't pass the filter\n",
    "    g1_hits_fail.to_csv(f'{script_output}g1_hits_fail.csv', index=False)\n",
    "    # Clean the passes, add the intronID, then save it\n",
    "    g1_hits_pass = g1_hits_pass.sort_values(by=['target_name', 'seq_from'])\n",
    "    g1_hits_pass['intronID'] = g1_hits_pass['target_name'] + '_I_' + g1_hits_pass['seq_from'].astype(str)\n",
    "    column_order = ['intronID'] + [col for col in g1_hits_pass.columns if col != 'intronID']\n",
    "    g1_hits_pass = g1_hits_pass[column_order]\n",
    "    g1_hits_pass.to_csv(f'{script_output}g1_hits_pass.csv', index=False)\n",
    "    \n",
    "    \n",
    "    print('Collapsing group II...')\n",
    "    g2_hits_pass = scripts.collapse_hits(g2_df)\n",
    "    \n",
    "    print('Saving group II...')\n",
    "    g2_hits_pass = g2_hits_pass.sort_values(by=['target_name', 'seq_from'])\n",
    "    g2_hits_pass['intronID'] = g2_hits_pass['target_name'] + '_II_' + g2_hits_pass['seq_from'].astype(str)\n",
    "    column_order = ['intronID'] + [col for col in g2_hits_pass.columns if col != 'intronID']\n",
    "    g2_hits_pass = g2_hits_pass[column_order]\n",
    "    g2_hits_pass.to_csv(f'{script_output}g2_hits_pass.csv', index=False)\n",
    "\n",
    "    # Save all the hits\n",
    "    g2_df = g2_df.sort_values(by=['target_name', 'seq_from'])\n",
    "    g2_df['intronID'] = g2_df['target_name'] + '_II_' + g2_df['seq_from'].astype(str)\n",
    "    column_order = ['intronID'] + [col for col in g2_df.columns if col != 'intronID']\n",
    "    g2_df = g2_df[column_order]\n",
    "    g2_df.to_csv(f'{script_output}g2_df.csv', index=False)\n",
    "    print('Done!')\n",
    "    \n",
    "else:\n",
    "    g1_df = pd.read_csv(f'{script_output}g1_df.csv')\n",
    "    g2_df = pd.read_csv(f'{script_output}g2_df.csv')\n",
    "\n",
    "    g1_hits_pass = pd.read_csv(f'{script_output}g1_hits_pass.csv')\n",
    "    g2_hits_pass = pd.read_csv(f'{script_output}g2_hits_pass.csv')"
   ]
  },
  {
   "cell_type": "code",
   "execution_count": null,
   "id": "e3a9fc37-76c1-4792-b6c4-54579fc809c2",
   "metadata": {},
   "outputs": [],
   "source": []
  },
  {
   "cell_type": "code",
   "execution_count": null,
   "id": "7429f97e-0688-42e9-87e3-1b22e4cd3f9f",
   "metadata": {},
   "outputs": [],
   "source": []
  },
  {
   "cell_type": "code",
   "execution_count": null,
   "id": "2eb8837a-aadc-4e70-8555-e97fcae3c1e9",
   "metadata": {},
   "outputs": [],
   "source": []
  },
  {
   "cell_type": "code",
   "execution_count": 8,
   "id": "73f2f49d-d238-485c-b33b-b9b9d574e358",
   "metadata": {},
   "outputs": [],
   "source": [
    "# This will submit jobs to slurm to hmmscan the surrounding window\n",
    "# The genomes should be indexed (i.e. contain a .idx file in the dir)\n",
    "# If not, you can use esl-index.sh\n",
    "\n",
    "if preprocess:\n",
    "    scripts.hmmscan_window(g2_df, genbank_dir, window_dir)"
   ]
  },
  {
   "cell_type": "code",
   "execution_count": 9,
   "id": "fd1b1daf-86f4-4d51-8688-498a42f57ca1",
   "metadata": {},
   "outputs": [],
   "source": [
    "# Note you need to make sure all your jobs from above have finished before running this\n",
    "# You also need to run the following bash scripts before running this:\n",
    "# pharokka.sh in pharokka env to generate annotations\n",
    "# bakta.sh in bakta env to generate annotations\n",
    "# defensefinder.sh in defensefinder env to get defense\n",
    "\n",
    "if preprocess:\n",
    "    all_defense_hits = scripts.combine_defense(g2_df, bakta_dir, defense_dir)\n",
    "    all_hit_df = scripts.hit_to_genome_with_domtbl(g2_df, window_dir, genbank_dir)\n",
    "    all_hit_df_derep = all_hit_df.loc[all_hit_df['genome'].isin(actual_genomes)]\n",
    "    all_hit_df_derep.to_csv(f'{script_output}g2_genes_top3_5kb_with_locs.csv', index=False)\n",
    "    scripts.combine_genbanks(all_hit_df_derep, pharokka_dir, bakta_dir, genbank_out_directory, actual_genomes)\n",
    "    scripts.update_genbank(genbank_out_directory, all_hit_df_derep, g1_hits_pass, g2_df, all_defense_hits)\n",
    "else:\n",
    "    all_hit_df_derep =  pd.read_csv(f'{script_output}g2_genes_top3_5kb_with_locs.csv')"
   ]
  }
 ],
 "metadata": {
  "kernelspec": {
   "display_name": "Python [conda env:.conda-jupyter_3.6]",
   "language": "python",
   "name": "conda-env-.conda-jupyter_3.6-py"
  },
  "language_info": {
   "codemirror_mode": {
    "name": "ipython",
    "version": 3
   },
   "file_extension": ".py",
   "mimetype": "text/x-python",
   "name": "python",
   "nbconvert_exporter": "python",
   "pygments_lexer": "ipython3",
   "version": "3.6.13"
  }
 },
 "nbformat": 4,
 "nbformat_minor": 5
}
